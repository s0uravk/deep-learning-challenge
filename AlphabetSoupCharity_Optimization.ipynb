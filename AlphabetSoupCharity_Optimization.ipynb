{
  "nbformat": 4,
  "nbformat_minor": 0,
  "metadata": {
    "colab": {
      "provenance": []
    },
    "kernelspec": {
      "name": "python3",
      "display_name": "Python 3"
    },
    "language_info": {
      "name": "python"
    }
  },
  "cells": [
    {
      "cell_type": "code",
      "execution_count": null,
      "metadata": {
        "colab": {
          "base_uri": "https://localhost:8080/",
          "height": 206
        },
        "id": "BKAtlsTWoFtp",
        "outputId": "9655d541-89e1-426d-def9-2a0a038751fa"
      },
      "outputs": [
        {
          "output_type": "execute_result",
          "data": {
            "text/plain": [
              "        EIN                                      NAME APPLICATION_TYPE  \\\n",
              "0  10520599              BLUE KNIGHTS MOTORCYCLE CLUB              T10   \n",
              "1  10531628    AMERICAN CHESAPEAKE CLUB CHARITABLE TR               T3   \n",
              "2  10547893        ST CLOUD PROFESSIONAL FIREFIGHTERS               T5   \n",
              "3  10553066            SOUTHSIDE ATHLETIC ASSOCIATION               T3   \n",
              "4  10556103  GENETIC RESEARCH INSTITUTE OF THE DESERT               T3   \n",
              "\n",
              "        AFFILIATION CLASSIFICATION      USE_CASE  ORGANIZATION  STATUS  \\\n",
              "0       Independent          C1000    ProductDev   Association       1   \n",
              "1       Independent          C2000  Preservation  Co-operative       1   \n",
              "2  CompanySponsored          C3000    ProductDev   Association       1   \n",
              "3  CompanySponsored          C2000  Preservation         Trust       1   \n",
              "4       Independent          C1000     Heathcare         Trust       1   \n",
              "\n",
              "      INCOME_AMT SPECIAL_CONSIDERATIONS  ASK_AMT  IS_SUCCESSFUL  \n",
              "0              0                      N     5000              1  \n",
              "1         1-9999                      N   108590              1  \n",
              "2              0                      N     5000              0  \n",
              "3    10000-24999                      N     6692              1  \n",
              "4  100000-499999                      N   142590              1  "
            ],
            "text/html": [
              "\n",
              "  <div id=\"df-c52b7d43-2036-42bc-982a-a797f9f16f4a\" class=\"colab-df-container\">\n",
              "    <div>\n",
              "<style scoped>\n",
              "    .dataframe tbody tr th:only-of-type {\n",
              "        vertical-align: middle;\n",
              "    }\n",
              "\n",
              "    .dataframe tbody tr th {\n",
              "        vertical-align: top;\n",
              "    }\n",
              "\n",
              "    .dataframe thead th {\n",
              "        text-align: right;\n",
              "    }\n",
              "</style>\n",
              "<table border=\"1\" class=\"dataframe\">\n",
              "  <thead>\n",
              "    <tr style=\"text-align: right;\">\n",
              "      <th></th>\n",
              "      <th>EIN</th>\n",
              "      <th>NAME</th>\n",
              "      <th>APPLICATION_TYPE</th>\n",
              "      <th>AFFILIATION</th>\n",
              "      <th>CLASSIFICATION</th>\n",
              "      <th>USE_CASE</th>\n",
              "      <th>ORGANIZATION</th>\n",
              "      <th>STATUS</th>\n",
              "      <th>INCOME_AMT</th>\n",
              "      <th>SPECIAL_CONSIDERATIONS</th>\n",
              "      <th>ASK_AMT</th>\n",
              "      <th>IS_SUCCESSFUL</th>\n",
              "    </tr>\n",
              "  </thead>\n",
              "  <tbody>\n",
              "    <tr>\n",
              "      <th>0</th>\n",
              "      <td>10520599</td>\n",
              "      <td>BLUE KNIGHTS MOTORCYCLE CLUB</td>\n",
              "      <td>T10</td>\n",
              "      <td>Independent</td>\n",
              "      <td>C1000</td>\n",
              "      <td>ProductDev</td>\n",
              "      <td>Association</td>\n",
              "      <td>1</td>\n",
              "      <td>0</td>\n",
              "      <td>N</td>\n",
              "      <td>5000</td>\n",
              "      <td>1</td>\n",
              "    </tr>\n",
              "    <tr>\n",
              "      <th>1</th>\n",
              "      <td>10531628</td>\n",
              "      <td>AMERICAN CHESAPEAKE CLUB CHARITABLE TR</td>\n",
              "      <td>T3</td>\n",
              "      <td>Independent</td>\n",
              "      <td>C2000</td>\n",
              "      <td>Preservation</td>\n",
              "      <td>Co-operative</td>\n",
              "      <td>1</td>\n",
              "      <td>1-9999</td>\n",
              "      <td>N</td>\n",
              "      <td>108590</td>\n",
              "      <td>1</td>\n",
              "    </tr>\n",
              "    <tr>\n",
              "      <th>2</th>\n",
              "      <td>10547893</td>\n",
              "      <td>ST CLOUD PROFESSIONAL FIREFIGHTERS</td>\n",
              "      <td>T5</td>\n",
              "      <td>CompanySponsored</td>\n",
              "      <td>C3000</td>\n",
              "      <td>ProductDev</td>\n",
              "      <td>Association</td>\n",
              "      <td>1</td>\n",
              "      <td>0</td>\n",
              "      <td>N</td>\n",
              "      <td>5000</td>\n",
              "      <td>0</td>\n",
              "    </tr>\n",
              "    <tr>\n",
              "      <th>3</th>\n",
              "      <td>10553066</td>\n",
              "      <td>SOUTHSIDE ATHLETIC ASSOCIATION</td>\n",
              "      <td>T3</td>\n",
              "      <td>CompanySponsored</td>\n",
              "      <td>C2000</td>\n",
              "      <td>Preservation</td>\n",
              "      <td>Trust</td>\n",
              "      <td>1</td>\n",
              "      <td>10000-24999</td>\n",
              "      <td>N</td>\n",
              "      <td>6692</td>\n",
              "      <td>1</td>\n",
              "    </tr>\n",
              "    <tr>\n",
              "      <th>4</th>\n",
              "      <td>10556103</td>\n",
              "      <td>GENETIC RESEARCH INSTITUTE OF THE DESERT</td>\n",
              "      <td>T3</td>\n",
              "      <td>Independent</td>\n",
              "      <td>C1000</td>\n",
              "      <td>Heathcare</td>\n",
              "      <td>Trust</td>\n",
              "      <td>1</td>\n",
              "      <td>100000-499999</td>\n",
              "      <td>N</td>\n",
              "      <td>142590</td>\n",
              "      <td>1</td>\n",
              "    </tr>\n",
              "  </tbody>\n",
              "</table>\n",
              "</div>\n",
              "    <div class=\"colab-df-buttons\">\n",
              "\n",
              "  <div class=\"colab-df-container\">\n",
              "    <button class=\"colab-df-convert\" onclick=\"convertToInteractive('df-c52b7d43-2036-42bc-982a-a797f9f16f4a')\"\n",
              "            title=\"Convert this dataframe to an interactive table.\"\n",
              "            style=\"display:none;\">\n",
              "\n",
              "  <svg xmlns=\"http://www.w3.org/2000/svg\" height=\"24px\" viewBox=\"0 -960 960 960\">\n",
              "    <path d=\"M120-120v-720h720v720H120Zm60-500h600v-160H180v160Zm220 220h160v-160H400v160Zm0 220h160v-160H400v160ZM180-400h160v-160H180v160Zm440 0h160v-160H620v160ZM180-180h160v-160H180v160Zm440 0h160v-160H620v160Z\"/>\n",
              "  </svg>\n",
              "    </button>\n",
              "\n",
              "  <style>\n",
              "    .colab-df-container {\n",
              "      display:flex;\n",
              "      gap: 12px;\n",
              "    }\n",
              "\n",
              "    .colab-df-convert {\n",
              "      background-color: #E8F0FE;\n",
              "      border: none;\n",
              "      border-radius: 50%;\n",
              "      cursor: pointer;\n",
              "      display: none;\n",
              "      fill: #1967D2;\n",
              "      height: 32px;\n",
              "      padding: 0 0 0 0;\n",
              "      width: 32px;\n",
              "    }\n",
              "\n",
              "    .colab-df-convert:hover {\n",
              "      background-color: #E2EBFA;\n",
              "      box-shadow: 0px 1px 2px rgba(60, 64, 67, 0.3), 0px 1px 3px 1px rgba(60, 64, 67, 0.15);\n",
              "      fill: #174EA6;\n",
              "    }\n",
              "\n",
              "    .colab-df-buttons div {\n",
              "      margin-bottom: 4px;\n",
              "    }\n",
              "\n",
              "    [theme=dark] .colab-df-convert {\n",
              "      background-color: #3B4455;\n",
              "      fill: #D2E3FC;\n",
              "    }\n",
              "\n",
              "    [theme=dark] .colab-df-convert:hover {\n",
              "      background-color: #434B5C;\n",
              "      box-shadow: 0px 1px 3px 1px rgba(0, 0, 0, 0.15);\n",
              "      filter: drop-shadow(0px 1px 2px rgba(0, 0, 0, 0.3));\n",
              "      fill: #FFFFFF;\n",
              "    }\n",
              "  </style>\n",
              "\n",
              "    <script>\n",
              "      const buttonEl =\n",
              "        document.querySelector('#df-c52b7d43-2036-42bc-982a-a797f9f16f4a button.colab-df-convert');\n",
              "      buttonEl.style.display =\n",
              "        google.colab.kernel.accessAllowed ? 'block' : 'none';\n",
              "\n",
              "      async function convertToInteractive(key) {\n",
              "        const element = document.querySelector('#df-c52b7d43-2036-42bc-982a-a797f9f16f4a');\n",
              "        const dataTable =\n",
              "          await google.colab.kernel.invokeFunction('convertToInteractive',\n",
              "                                                    [key], {});\n",
              "        if (!dataTable) return;\n",
              "\n",
              "        const docLinkHtml = 'Like what you see? Visit the ' +\n",
              "          '<a target=\"_blank\" href=https://colab.research.google.com/notebooks/data_table.ipynb>data table notebook</a>'\n",
              "          + ' to learn more about interactive tables.';\n",
              "        element.innerHTML = '';\n",
              "        dataTable['output_type'] = 'display_data';\n",
              "        await google.colab.output.renderOutput(dataTable, element);\n",
              "        const docLink = document.createElement('div');\n",
              "        docLink.innerHTML = docLinkHtml;\n",
              "        element.appendChild(docLink);\n",
              "      }\n",
              "    </script>\n",
              "  </div>\n",
              "\n",
              "\n",
              "<div id=\"df-20ee1c2f-a001-4367-98e0-7d7c15ea77bc\">\n",
              "  <button class=\"colab-df-quickchart\" onclick=\"quickchart('df-20ee1c2f-a001-4367-98e0-7d7c15ea77bc')\"\n",
              "            title=\"Suggest charts\"\n",
              "            style=\"display:none;\">\n",
              "\n",
              "<svg xmlns=\"http://www.w3.org/2000/svg\" height=\"24px\"viewBox=\"0 0 24 24\"\n",
              "     width=\"24px\">\n",
              "    <g>\n",
              "        <path d=\"M19 3H5c-1.1 0-2 .9-2 2v14c0 1.1.9 2 2 2h14c1.1 0 2-.9 2-2V5c0-1.1-.9-2-2-2zM9 17H7v-7h2v7zm4 0h-2V7h2v10zm4 0h-2v-4h2v4z\"/>\n",
              "    </g>\n",
              "</svg>\n",
              "  </button>\n",
              "\n",
              "<style>\n",
              "  .colab-df-quickchart {\n",
              "      --bg-color: #E8F0FE;\n",
              "      --fill-color: #1967D2;\n",
              "      --hover-bg-color: #E2EBFA;\n",
              "      --hover-fill-color: #174EA6;\n",
              "      --disabled-fill-color: #AAA;\n",
              "      --disabled-bg-color: #DDD;\n",
              "  }\n",
              "\n",
              "  [theme=dark] .colab-df-quickchart {\n",
              "      --bg-color: #3B4455;\n",
              "      --fill-color: #D2E3FC;\n",
              "      --hover-bg-color: #434B5C;\n",
              "      --hover-fill-color: #FFFFFF;\n",
              "      --disabled-bg-color: #3B4455;\n",
              "      --disabled-fill-color: #666;\n",
              "  }\n",
              "\n",
              "  .colab-df-quickchart {\n",
              "    background-color: var(--bg-color);\n",
              "    border: none;\n",
              "    border-radius: 50%;\n",
              "    cursor: pointer;\n",
              "    display: none;\n",
              "    fill: var(--fill-color);\n",
              "    height: 32px;\n",
              "    padding: 0;\n",
              "    width: 32px;\n",
              "  }\n",
              "\n",
              "  .colab-df-quickchart:hover {\n",
              "    background-color: var(--hover-bg-color);\n",
              "    box-shadow: 0 1px 2px rgba(60, 64, 67, 0.3), 0 1px 3px 1px rgba(60, 64, 67, 0.15);\n",
              "    fill: var(--button-hover-fill-color);\n",
              "  }\n",
              "\n",
              "  .colab-df-quickchart-complete:disabled,\n",
              "  .colab-df-quickchart-complete:disabled:hover {\n",
              "    background-color: var(--disabled-bg-color);\n",
              "    fill: var(--disabled-fill-color);\n",
              "    box-shadow: none;\n",
              "  }\n",
              "\n",
              "  .colab-df-spinner {\n",
              "    border: 2px solid var(--fill-color);\n",
              "    border-color: transparent;\n",
              "    border-bottom-color: var(--fill-color);\n",
              "    animation:\n",
              "      spin 1s steps(1) infinite;\n",
              "  }\n",
              "\n",
              "  @keyframes spin {\n",
              "    0% {\n",
              "      border-color: transparent;\n",
              "      border-bottom-color: var(--fill-color);\n",
              "      border-left-color: var(--fill-color);\n",
              "    }\n",
              "    20% {\n",
              "      border-color: transparent;\n",
              "      border-left-color: var(--fill-color);\n",
              "      border-top-color: var(--fill-color);\n",
              "    }\n",
              "    30% {\n",
              "      border-color: transparent;\n",
              "      border-left-color: var(--fill-color);\n",
              "      border-top-color: var(--fill-color);\n",
              "      border-right-color: var(--fill-color);\n",
              "    }\n",
              "    40% {\n",
              "      border-color: transparent;\n",
              "      border-right-color: var(--fill-color);\n",
              "      border-top-color: var(--fill-color);\n",
              "    }\n",
              "    60% {\n",
              "      border-color: transparent;\n",
              "      border-right-color: var(--fill-color);\n",
              "    }\n",
              "    80% {\n",
              "      border-color: transparent;\n",
              "      border-right-color: var(--fill-color);\n",
              "      border-bottom-color: var(--fill-color);\n",
              "    }\n",
              "    90% {\n",
              "      border-color: transparent;\n",
              "      border-bottom-color: var(--fill-color);\n",
              "    }\n",
              "  }\n",
              "</style>\n",
              "\n",
              "  <script>\n",
              "    async function quickchart(key) {\n",
              "      const quickchartButtonEl =\n",
              "        document.querySelector('#' + key + ' button');\n",
              "      quickchartButtonEl.disabled = true;  // To prevent multiple clicks.\n",
              "      quickchartButtonEl.classList.add('colab-df-spinner');\n",
              "      try {\n",
              "        const charts = await google.colab.kernel.invokeFunction(\n",
              "            'suggestCharts', [key], {});\n",
              "      } catch (error) {\n",
              "        console.error('Error during call to suggestCharts:', error);\n",
              "      }\n",
              "      quickchartButtonEl.classList.remove('colab-df-spinner');\n",
              "      quickchartButtonEl.classList.add('colab-df-quickchart-complete');\n",
              "    }\n",
              "    (() => {\n",
              "      let quickchartButtonEl =\n",
              "        document.querySelector('#df-20ee1c2f-a001-4367-98e0-7d7c15ea77bc button');\n",
              "      quickchartButtonEl.style.display =\n",
              "        google.colab.kernel.accessAllowed ? 'block' : 'none';\n",
              "    })();\n",
              "  </script>\n",
              "</div>\n",
              "\n",
              "    </div>\n",
              "  </div>\n"
            ],
            "application/vnd.google.colaboratory.intrinsic+json": {
              "type": "dataframe",
              "variable_name": "application_df",
              "summary": "{\n  \"name\": \"application_df\",\n  \"rows\": 34299,\n  \"fields\": [\n    {\n      \"column\": \"EIN\",\n      \"properties\": {\n        \"dtype\": \"number\",\n        \"std\": 245147183,\n        \"min\": 10520599,\n        \"max\": 996086871,\n        \"num_unique_values\": 34299,\n        \"samples\": [\n          271598055,\n          900109768,\n          352562499\n        ],\n        \"semantic_type\": \"\",\n        \"description\": \"\"\n      }\n    },\n    {\n      \"column\": \"NAME\",\n      \"properties\": {\n        \"dtype\": \"string\",\n        \"num_unique_values\": 19568,\n        \"samples\": [\n          \"LOCAL 12 USW GOODYEAR INSTITUTE FORCAREER DEVELOPMENT\",\n          \"INTERNATION ASSOCIATION OF ELECTRICAL INSPECTORS\",\n          \"BRICKLAYERS & ALLIED CRAFTWORKERS LOCAL 13 VACATION FUND\"\n        ],\n        \"semantic_type\": \"\",\n        \"description\": \"\"\n      }\n    },\n    {\n      \"column\": \"APPLICATION_TYPE\",\n      \"properties\": {\n        \"dtype\": \"category\",\n        \"num_unique_values\": 17,\n        \"samples\": [\n          \"T10\",\n          \"T3\",\n          \"T6\"\n        ],\n        \"semantic_type\": \"\",\n        \"description\": \"\"\n      }\n    },\n    {\n      \"column\": \"AFFILIATION\",\n      \"properties\": {\n        \"dtype\": \"category\",\n        \"num_unique_values\": 6,\n        \"samples\": [\n          \"Independent\",\n          \"CompanySponsored\",\n          \"Other\"\n        ],\n        \"semantic_type\": \"\",\n        \"description\": \"\"\n      }\n    },\n    {\n      \"column\": \"CLASSIFICATION\",\n      \"properties\": {\n        \"dtype\": \"category\",\n        \"num_unique_values\": 71,\n        \"samples\": [\n          \"C1500\",\n          \"C1000\",\n          \"C1570\"\n        ],\n        \"semantic_type\": \"\",\n        \"description\": \"\"\n      }\n    },\n    {\n      \"column\": \"USE_CASE\",\n      \"properties\": {\n        \"dtype\": \"category\",\n        \"num_unique_values\": 5,\n        \"samples\": [\n          \"Preservation\",\n          \"Other\",\n          \"Heathcare\"\n        ],\n        \"semantic_type\": \"\",\n        \"description\": \"\"\n      }\n    },\n    {\n      \"column\": \"ORGANIZATION\",\n      \"properties\": {\n        \"dtype\": \"category\",\n        \"num_unique_values\": 4,\n        \"samples\": [\n          \"Co-operative\",\n          \"Corporation\",\n          \"Association\"\n        ],\n        \"semantic_type\": \"\",\n        \"description\": \"\"\n      }\n    },\n    {\n      \"column\": \"STATUS\",\n      \"properties\": {\n        \"dtype\": \"number\",\n        \"std\": 0,\n        \"min\": 0,\n        \"max\": 1,\n        \"num_unique_values\": 2,\n        \"samples\": [\n          0,\n          1\n        ],\n        \"semantic_type\": \"\",\n        \"description\": \"\"\n      }\n    },\n    {\n      \"column\": \"INCOME_AMT\",\n      \"properties\": {\n        \"dtype\": \"category\",\n        \"num_unique_values\": 9,\n        \"samples\": [\n          \"1M-5M\",\n          \"1-9999\"\n        ],\n        \"semantic_type\": \"\",\n        \"description\": \"\"\n      }\n    },\n    {\n      \"column\": \"SPECIAL_CONSIDERATIONS\",\n      \"properties\": {\n        \"dtype\": \"category\",\n        \"num_unique_values\": 2,\n        \"samples\": [\n          \"Y\",\n          \"N\"\n        ],\n        \"semantic_type\": \"\",\n        \"description\": \"\"\n      }\n    },\n    {\n      \"column\": \"ASK_AMT\",\n      \"properties\": {\n        \"dtype\": \"number\",\n        \"std\": 87130452,\n        \"min\": 5000,\n        \"max\": 8597806340,\n        \"num_unique_values\": 8747,\n        \"samples\": [\n          1328927,\n          42942\n        ],\n        \"semantic_type\": \"\",\n        \"description\": \"\"\n      }\n    },\n    {\n      \"column\": \"IS_SUCCESSFUL\",\n      \"properties\": {\n        \"dtype\": \"number\",\n        \"std\": 0,\n        \"min\": 0,\n        \"max\": 1,\n        \"num_unique_values\": 2,\n        \"samples\": [\n          0,\n          1\n        ],\n        \"semantic_type\": \"\",\n        \"description\": \"\"\n      }\n    }\n  ]\n}"
            }
          },
          "metadata": {},
          "execution_count": 1
        }
      ],
      "source": [
        "# Import our dependencies\n",
        "from sklearn.model_selection import train_test_split\n",
        "from sklearn.preprocessing import StandardScaler\n",
        "import pandas as pd\n",
        "import tensorflow as tf\n",
        "\n",
        "#  Import and read the charity_data.csv.\n",
        "import pandas as pd\n",
        "application_df = pd.read_csv(\"https://static.bc-edx.com/data/dl-1-2/m21/lms/starter/charity_data.csv\")\n",
        "application_df.head()"
      ]
    },
    {
      "cell_type": "code",
      "execution_count": null,
      "metadata": {
        "id": "La4z6nGToFtr"
      },
      "outputs": [],
      "source": [
        "# Drop the non-beneficial ID columns, 'EIN' and 'NAME'.\n",
        "application_df.drop(columns = ['EIN', 'NAME'], inplace = True)"
      ]
    },
    {
      "cell_type": "code",
      "execution_count": null,
      "metadata": {
        "colab": {
          "base_uri": "https://localhost:8080/"
        },
        "id": "8JQj0vQFoFtr",
        "outputId": "75dd63d9-ae50-45ef-ce29-e9276e77b1a2"
      },
      "outputs": [
        {
          "output_type": "execute_result",
          "data": {
            "text/plain": [
              "APPLICATION_TYPE            17\n",
              "AFFILIATION                  6\n",
              "CLASSIFICATION              71\n",
              "USE_CASE                     5\n",
              "ORGANIZATION                 4\n",
              "STATUS                       2\n",
              "INCOME_AMT                   9\n",
              "SPECIAL_CONSIDERATIONS       2\n",
              "ASK_AMT                   8747\n",
              "IS_SUCCESSFUL                2\n",
              "dtype: int64"
            ]
          },
          "metadata": {},
          "execution_count": 3
        }
      ],
      "source": [
        "# Determine the number of unique values in each column.\n",
        "application_df.nunique()"
      ]
    },
    {
      "cell_type": "code",
      "execution_count": null,
      "metadata": {
        "colab": {
          "base_uri": "https://localhost:8080/"
        },
        "id": "kR7VNYnfoFtr",
        "outputId": "68f25954-205f-4a23-ef46-3c92fd0c1d22"
      },
      "outputs": [
        {
          "output_type": "execute_result",
          "data": {
            "text/plain": [
              "APPLICATION_TYPE\n",
              "T3     27037\n",
              "T4      1542\n",
              "T6      1216\n",
              "T5      1173\n",
              "T19     1065\n",
              "T8       737\n",
              "T7       725\n",
              "T10      528\n",
              "T9       156\n",
              "T13       66\n",
              "T12       27\n",
              "T2        16\n",
              "T25        3\n",
              "T14        3\n",
              "T29        2\n",
              "T15        2\n",
              "T17        1\n",
              "Name: count, dtype: int64"
            ]
          },
          "metadata": {},
          "execution_count": 4
        }
      ],
      "source": [
        "# Look at APPLICATION_TYPE value counts for binning\n",
        "application_df['APPLICATION_TYPE'].value_counts()"
      ]
    },
    {
      "cell_type": "code",
      "execution_count": null,
      "metadata": {
        "colab": {
          "base_uri": "https://localhost:8080/"
        },
        "id": "SSaBtEpooFtr",
        "outputId": "b25f883e-314a-4ad2-8ec6-2b8b7b623561"
      },
      "outputs": [
        {
          "output_type": "execute_result",
          "data": {
            "text/plain": [
              "APPLICATION_TYPE\n",
              "T3       27037\n",
              "Other     2266\n",
              "T4        1542\n",
              "T6        1216\n",
              "T5        1173\n",
              "T19       1065\n",
              "Name: count, dtype: int64"
            ]
          },
          "metadata": {},
          "execution_count": 5
        }
      ],
      "source": [
        "# Choose a cutoff value and create a list of application types to be replaced\n",
        "# use the variable name `application_types_to_replace`\n",
        "application_types_to_replace = ['T8', 'T7', 'T10', 'T9', 'T13', 'T12', 'T2', 'T25', 'T14', 'T29', 'T15', 'T17']\n",
        "\n",
        "# Replace in dataframe\n",
        "for app in application_types_to_replace:\n",
        "    application_df['APPLICATION_TYPE'] = application_df['APPLICATION_TYPE'].replace(app,\"Other\")\n",
        "\n",
        "# Check to make sure binning was successful\n",
        "application_df['APPLICATION_TYPE'].value_counts()"
      ]
    },
    {
      "cell_type": "code",
      "execution_count": null,
      "metadata": {
        "colab": {
          "base_uri": "https://localhost:8080/"
        },
        "id": "lGtirkiEoFts",
        "outputId": "8d6824bf-4895-4b09-a552-30cd41a1c30b"
      },
      "outputs": [
        {
          "output_type": "execute_result",
          "data": {
            "text/plain": [
              "CLASSIFICATION\n",
              "C1000    17326\n",
              "C2000     6074\n",
              "C1200     4837\n",
              "C3000     1918\n",
              "C2100     1883\n",
              "         ...  \n",
              "C4120        1\n",
              "C8210        1\n",
              "C2561        1\n",
              "C4500        1\n",
              "C2150        1\n",
              "Name: count, Length: 71, dtype: int64"
            ]
          },
          "metadata": {},
          "execution_count": 6
        }
      ],
      "source": [
        "# Look at CLASSIFICATION value counts for binning\n",
        "classification_counts = application_df['CLASSIFICATION'].value_counts()\n",
        "classification_counts"
      ]
    },
    {
      "cell_type": "code",
      "execution_count": null,
      "metadata": {
        "colab": {
          "base_uri": "https://localhost:8080/"
        },
        "id": "fNuyZKPUoFts",
        "outputId": "5041db14-9d6e-48ae-c9b8-5dc94a8d2295"
      },
      "outputs": [
        {
          "output_type": "execute_result",
          "data": {
            "text/plain": [
              "CLASSIFICATION\n",
              "C1000    17326\n",
              "C2000     6074\n",
              "C1200     4837\n",
              "C3000     1918\n",
              "C2100     1883\n",
              "C7000      777\n",
              "C1700      287\n",
              "C4000      194\n",
              "C5000      116\n",
              "C1270      114\n",
              "C2700      104\n",
              "C2800       95\n",
              "C7100       75\n",
              "C1300       58\n",
              "C1280       50\n",
              "C1230       36\n",
              "C1400       34\n",
              "C7200       32\n",
              "C2300       32\n",
              "C1240       30\n",
              "C8000       20\n",
              "C7120       18\n",
              "C1500       16\n",
              "C1800       15\n",
              "C6000       15\n",
              "C1250       14\n",
              "C8200       11\n",
              "C1238       10\n",
              "C1278       10\n",
              "C1235        9\n",
              "C1237        9\n",
              "C7210        7\n",
              "C2400        6\n",
              "C1720        6\n",
              "C4100        6\n",
              "C1257        5\n",
              "C1600        5\n",
              "C1260        3\n",
              "C2710        3\n",
              "C0           3\n",
              "C3200        2\n",
              "C1234        2\n",
              "C1246        2\n",
              "C1267        2\n",
              "C1256        2\n",
              "Name: count, dtype: int64"
            ]
          },
          "metadata": {},
          "execution_count": 7
        }
      ],
      "source": [
        "\n",
        "# You may find it helpful to look at CLASSIFICATION value counts >1\n",
        "classifications_more_than_one = classification_counts[classification_counts > 1]\n",
        "classifications_more_than_one"
      ]
    },
    {
      "cell_type": "code",
      "execution_count": null,
      "metadata": {
        "colab": {
          "base_uri": "https://localhost:8080/"
        },
        "id": "KWagF50soFts",
        "outputId": "4a553370-7cb2-45de-e41c-4b7e85d9c533"
      },
      "outputs": [
        {
          "output_type": "execute_result",
          "data": {
            "text/plain": [
              "CLASSIFICATION\n",
              "C1000    17326\n",
              "C2000     6074\n",
              "C1200     4837\n",
              "Other     2261\n",
              "C3000     1918\n",
              "C2100     1883\n",
              "Name: count, dtype: int64"
            ]
          },
          "metadata": {},
          "execution_count": 8
        }
      ],
      "source": [
        "# Choose a cutoff value and create a list of classifications to be replaced\n",
        "# use the variable name `classifications_to_replace`\n",
        "classifications_to_replace = ['C7000', 'C1700', 'C4000', 'C5000', 'C1270', 'C2700', 'C2800', 'C7100', 'C1300', 'C1280', 'C1230', 'C1400', 'C7200',\n",
        "                              'C2300', 'C1240', 'C8000', 'C7120', 'C1500', 'C1800', 'C6000', 'C1250', 'C8200', 'C1238', 'C1278', 'C1235', 'C1237',\n",
        "                              'C7210', 'C2400', 'C1720', 'C4100', 'C1257', 'C1600', 'C1260', 'C2710', 'C0', 'C3200', 'C1234', 'C1246', 'C1267',\n",
        "                              'C1256', 'C2190', 'C4200', 'C2600', 'C5200', 'C1370', 'C1248', 'C6100', 'C1820', 'C1900', 'C1236', 'C3700', 'C2570',\n",
        "                              'C1580', 'C1245', 'C2500', 'C1570', 'C1283', 'C2380', 'C1732', 'C1728', 'C2170', 'C4120', 'C8210', 'C2561', 'C4500',\n",
        "                              'C2150']\n",
        "\n",
        "# Replace in dataframe\n",
        "for cls in classifications_to_replace:\n",
        "    application_df['CLASSIFICATION'] = application_df['CLASSIFICATION'].replace(cls,\"Other\")\n",
        "\n",
        "# Check to make sure binning was successful\n",
        "application_df['CLASSIFICATION'].value_counts()"
      ]
    },
    {
      "cell_type": "code",
      "execution_count": null,
      "metadata": {
        "id": "RblCMOfRoFtt"
      },
      "outputs": [],
      "source": [
        "# Convert categorical data to numeric with `pd.get_dummies`\n",
        "dummied_df = pd.get_dummies(application_df, ['APPLICATION_TYPE', 'INCOME_AMT', 'AFFILIATION', 'CLASSIFICATION', 'USE_CASE', 'ORGANIZATION', 'SPECIAL_CONSIDERATIONS'])"
      ]
    },
    {
      "cell_type": "code",
      "source": [
        "# Split our preprocessed data into our features and target arrays\n",
        "X = dummied_df.drop(['IS_SUCCESSFUL','SPECIAL_CONSIDERATIONS_N'], axis = 1)\n",
        "y = dummied_df['IS_SUCCESSFUL']\n",
        "\n",
        "from sklearn.decomposition import PCA\n",
        "import numpy as np\n",
        "pca = PCA()\n",
        "X_pca = pca.fit_transform(X)[:,:3]\n",
        "pca.fit_transform(X)\n",
        "print(pca.explained_variance_ratio_)\n",
        "X_pca"
      ],
      "metadata": {
        "id": "dFMto_uNH69v",
        "colab": {
          "base_uri": "https://localhost:8080/"
        },
        "outputId": "2925f611-c103-404f-d3a8-4a9400715a17"
      },
      "execution_count": null,
      "outputs": [
        {
          "output_type": "stream",
          "name": "stdout",
          "text": [
            "(34299, 39)\n",
            "[1.00000000e+00 1.05350974e-16 5.67673284e-17 3.90727020e-17\n",
            " 3.06988221e-17 2.96946970e-17 2.00926834e-17 1.36118081e-17\n",
            " 1.20944187e-17 8.97701859e-18 7.27623561e-18 6.47794563e-18\n",
            " 5.46155071e-18 5.12981136e-18 4.42885350e-18 3.42336288e-18\n",
            " 3.12854476e-18 2.59831242e-18 2.28623955e-18 2.11806439e-18\n",
            " 1.48654535e-18 1.12589989e-18 7.69786174e-19 6.78298949e-19\n",
            " 4.23329209e-19 3.74460422e-19 2.17457629e-19 1.56236747e-19\n",
            " 1.03442852e-19 6.00570997e-20 1.89763767e-20 1.75543968e-20\n",
            " 1.43626543e-20 9.98401937e-33 9.98401937e-33 9.98401937e-33\n",
            " 9.98401937e-33 9.98401937e-33 9.98401937e-33]\n"
          ]
        },
        {
          "output_type": "execute_result",
          "data": {
            "text/plain": [
              "array([[-2.76419868e+06,  8.32352080e-01,  1.62334042e+00],\n",
              "       [-2.66060868e+06, -4.92148500e-01, -7.86421678e-02],\n",
              "       [-2.76419868e+06,  1.90110932e+00,  6.44828037e-01],\n",
              "       ...,\n",
              "       [-2.76419868e+06,  1.02378867e+00, -8.92105570e-01],\n",
              "       [-2.76419868e+06,  1.00870257e+00,  1.26423791e+00],\n",
              "       [ 3.37309803e+07, -5.86064307e-01,  4.60432391e-01]])"
            ]
          },
          "metadata": {},
          "execution_count": 26
        }
      ]
    },
    {
      "cell_type": "code",
      "execution_count": null,
      "metadata": {
        "id": "-P7CXcLXoFtt"
      },
      "outputs": [],
      "source": [
        "# Split the preprocessed data into a training and testing dataset\n",
        "X_train, X_test, y_train, y_test = train_test_split(X_pca, y)"
      ]
    },
    {
      "cell_type": "code",
      "execution_count": null,
      "metadata": {
        "id": "F_Ilku5EoFtt",
        "colab": {
          "base_uri": "https://localhost:8080/"
        },
        "outputId": "307876ab-fc92-4bec-ad9e-eceee323bc3b"
      },
      "outputs": [
        {
          "output_type": "execute_result",
          "data": {
            "text/plain": [
              "(8575, 3)"
            ]
          },
          "metadata": {},
          "execution_count": 13
        }
      ],
      "source": [
        "# Create a StandardScaler instances\n",
        "scaler = StandardScaler()\n",
        "\n",
        "# Fit the StandardScaler\n",
        "X_scaler = scaler.fit(X_train)\n",
        "\n",
        "# Scale the data\n",
        "X_train_scaled = X_scaler.transform(X_train)\n",
        "X_test_scaled = X_scaler.transform(X_test)\n",
        "X_test_scaled.shape"
      ]
    },
    {
      "cell_type": "markdown",
      "metadata": {
        "id": "OiWmtu8FoFtt"
      },
      "source": [
        "## Compile, Train and Evaluate the Model"
      ]
    },
    {
      "cell_type": "markdown",
      "source": [
        "#Attempt 1"
      ],
      "metadata": {
        "id": "uZSxcXpFJrZ2"
      }
    },
    {
      "cell_type": "code",
      "execution_count": null,
      "metadata": {
        "id": "M8YAeEYfoFtu",
        "outputId": "991a1bf0-221c-416f-a6ef-0aecd14b6e4b",
        "colab": {
          "base_uri": "https://localhost:8080/"
        }
      },
      "outputs": [
        {
          "output_type": "stream",
          "name": "stdout",
          "text": [
            "Model: \"sequential\"\n",
            "_________________________________________________________________\n",
            " Layer (type)                Output Shape              Param #   \n",
            "=================================================================\n",
            " dense (Dense)               (None, 50)                200       \n",
            "                                                                 \n",
            " dense_1 (Dense)             (None, 20)                1020      \n",
            "                                                                 \n",
            " dense_2 (Dense)             (None, 1)                 21        \n",
            "                                                                 \n",
            "=================================================================\n",
            "Total params: 1241 (4.85 KB)\n",
            "Trainable params: 1241 (4.85 KB)\n",
            "Non-trainable params: 0 (0.00 Byte)\n",
            "_________________________________________________________________\n"
          ]
        }
      ],
      "source": [
        "# Define the model - deep neural net, i.e., the number of input features and hidden nodes for each layer.\n",
        "units_first_layer = 50\n",
        "units_second_layer = 20\n",
        "input_dimensions = len(X_train_scaled[0])\n",
        "nn_model1 = tf.keras.models.Sequential()\n",
        "\n",
        "# Input layer\n",
        "nn_model1.add(tf.keras.layers.Dense(units = units_first_layer, activation = 'relu', input_dim = input_dimensions))\n",
        "\n",
        "# First hidden layer\n",
        "nn_model1.add(tf.keras.layers.Dense(units = units_second_layer, activation = 'relu'))\n",
        "\n",
        "# Output layer\n",
        "nn_model1.add(tf.keras.layers.Dense(units = 1, activation = 'sigmoid'))\n",
        "\n",
        "# Check the structure of the model\n",
        "nn_model1.summary()"
      ]
    },
    {
      "cell_type": "code",
      "execution_count": null,
      "metadata": {
        "id": "VxKtpDQloFtu"
      },
      "outputs": [],
      "source": [
        "# Compile the model\n",
        "nn_model1.compile(loss = 'binary_crossentropy', optimizer = 'adam', metrics = ['accuracy'])"
      ]
    },
    {
      "cell_type": "code",
      "execution_count": null,
      "metadata": {
        "id": "_rhkYDRLoFtu",
        "outputId": "d76d22b1-4b70-4154-d25f-190fa77126f8",
        "colab": {
          "base_uri": "https://localhost:8080/"
        }
      },
      "outputs": [
        {
          "output_type": "stream",
          "name": "stdout",
          "text": [
            "Epoch 1/60\n",
            "804/804 [==============================] - 3s 2ms/step - loss: 0.6213 - accuracy: 0.6824\n",
            "Epoch 2/60\n",
            "804/804 [==============================] - 2s 2ms/step - loss: 0.6111 - accuracy: 0.6940\n",
            "Epoch 3/60\n",
            "804/804 [==============================] - 2s 3ms/step - loss: 0.6078 - accuracy: 0.6978\n",
            "Epoch 4/60\n",
            "804/804 [==============================] - 2s 2ms/step - loss: 0.6058 - accuracy: 0.6969\n",
            "Epoch 5/60\n",
            "804/804 [==============================] - 2s 2ms/step - loss: 0.6043 - accuracy: 0.6996\n",
            "Epoch 6/60\n",
            "804/804 [==============================] - 2s 2ms/step - loss: 0.6033 - accuracy: 0.6992\n",
            "Epoch 7/60\n",
            "804/804 [==============================] - 2s 2ms/step - loss: 0.6022 - accuracy: 0.6997\n",
            "Epoch 8/60\n",
            "804/804 [==============================] - 2s 2ms/step - loss: 0.6018 - accuracy: 0.7014\n",
            "Epoch 9/60\n",
            "804/804 [==============================] - 2s 2ms/step - loss: 0.6010 - accuracy: 0.7014\n",
            "Epoch 10/60\n",
            "804/804 [==============================] - 2s 3ms/step - loss: 0.6000 - accuracy: 0.7030\n",
            "Epoch 11/60\n",
            "804/804 [==============================] - 2s 3ms/step - loss: 0.5998 - accuracy: 0.7033\n",
            "Epoch 12/60\n",
            "804/804 [==============================] - 1s 2ms/step - loss: 0.5988 - accuracy: 0.7038\n",
            "Epoch 13/60\n",
            "804/804 [==============================] - 2s 2ms/step - loss: 0.5988 - accuracy: 0.7034\n",
            "Epoch 14/60\n",
            "804/804 [==============================] - 1s 2ms/step - loss: 0.5981 - accuracy: 0.7055\n",
            "Epoch 15/60\n",
            "804/804 [==============================] - 1s 2ms/step - loss: 0.5977 - accuracy: 0.7065\n",
            "Epoch 16/60\n",
            "804/804 [==============================] - 2s 2ms/step - loss: 0.5972 - accuracy: 0.7063\n",
            "Epoch 17/60\n",
            "804/804 [==============================] - 2s 2ms/step - loss: 0.5970 - accuracy: 0.7071\n",
            "Epoch 18/60\n",
            "804/804 [==============================] - 3s 3ms/step - loss: 0.5961 - accuracy: 0.7065\n",
            "Epoch 19/60\n",
            "804/804 [==============================] - 2s 2ms/step - loss: 0.5955 - accuracy: 0.7067\n",
            "Epoch 20/60\n",
            "804/804 [==============================] - 2s 2ms/step - loss: 0.5954 - accuracy: 0.7083\n",
            "Epoch 21/60\n",
            "804/804 [==============================] - 2s 2ms/step - loss: 0.5948 - accuracy: 0.7090\n",
            "Epoch 22/60\n",
            "804/804 [==============================] - 2s 2ms/step - loss: 0.5942 - accuracy: 0.7086\n",
            "Epoch 23/60\n",
            "804/804 [==============================] - 2s 2ms/step - loss: 0.5941 - accuracy: 0.7088\n",
            "Epoch 24/60\n",
            "804/804 [==============================] - 2s 2ms/step - loss: 0.5935 - accuracy: 0.7082\n",
            "Epoch 25/60\n",
            "804/804 [==============================] - 2s 3ms/step - loss: 0.5937 - accuracy: 0.7086\n",
            "Epoch 26/60\n",
            "804/804 [==============================] - 2s 2ms/step - loss: 0.5935 - accuracy: 0.7091\n",
            "Epoch 27/60\n",
            "804/804 [==============================] - 2s 2ms/step - loss: 0.5935 - accuracy: 0.7087\n",
            "Epoch 28/60\n",
            "804/804 [==============================] - 2s 2ms/step - loss: 0.5926 - accuracy: 0.7083\n",
            "Epoch 29/60\n",
            "804/804 [==============================] - 2s 2ms/step - loss: 0.5928 - accuracy: 0.7095\n",
            "Epoch 30/60\n",
            "804/804 [==============================] - 2s 2ms/step - loss: 0.5926 - accuracy: 0.7082\n",
            "Epoch 31/60\n",
            "804/804 [==============================] - 2s 2ms/step - loss: 0.5920 - accuracy: 0.7086\n",
            "Epoch 32/60\n",
            "804/804 [==============================] - 2s 2ms/step - loss: 0.5914 - accuracy: 0.7090\n",
            "Epoch 33/60\n",
            "804/804 [==============================] - 2s 3ms/step - loss: 0.5917 - accuracy: 0.7096\n",
            "Epoch 34/60\n",
            "804/804 [==============================] - 1s 2ms/step - loss: 0.5914 - accuracy: 0.7096\n",
            "Epoch 35/60\n",
            "804/804 [==============================] - 2s 2ms/step - loss: 0.5915 - accuracy: 0.7089\n",
            "Epoch 36/60\n",
            "804/804 [==============================] - 2s 2ms/step - loss: 0.5913 - accuracy: 0.7096\n",
            "Epoch 37/60\n",
            "804/804 [==============================] - 2s 2ms/step - loss: 0.5913 - accuracy: 0.7094\n",
            "Epoch 38/60\n",
            "804/804 [==============================] - 2s 2ms/step - loss: 0.5911 - accuracy: 0.7091\n",
            "Epoch 39/60\n",
            "804/804 [==============================] - 2s 2ms/step - loss: 0.5908 - accuracy: 0.7094\n",
            "Epoch 40/60\n",
            "804/804 [==============================] - 2s 3ms/step - loss: 0.5908 - accuracy: 0.7104\n",
            "Epoch 41/60\n",
            "804/804 [==============================] - 2s 2ms/step - loss: 0.5908 - accuracy: 0.7095\n",
            "Epoch 42/60\n",
            "804/804 [==============================] - 2s 2ms/step - loss: 0.5904 - accuracy: 0.7093\n",
            "Epoch 43/60\n",
            "804/804 [==============================] - 2s 2ms/step - loss: 0.5903 - accuracy: 0.7093\n",
            "Epoch 44/60\n",
            "804/804 [==============================] - 2s 2ms/step - loss: 0.5902 - accuracy: 0.7095\n",
            "Epoch 45/60\n",
            "804/804 [==============================] - 2s 2ms/step - loss: 0.5902 - accuracy: 0.7095\n",
            "Epoch 46/60\n",
            "804/804 [==============================] - 2s 2ms/step - loss: 0.5897 - accuracy: 0.7107\n",
            "Epoch 47/60\n",
            "804/804 [==============================] - 2s 2ms/step - loss: 0.5903 - accuracy: 0.7100\n",
            "Epoch 48/60\n",
            "804/804 [==============================] - 2s 3ms/step - loss: 0.5896 - accuracy: 0.7098\n",
            "Epoch 49/60\n",
            "804/804 [==============================] - 2s 2ms/step - loss: 0.5893 - accuracy: 0.7106\n",
            "Epoch 50/60\n",
            "804/804 [==============================] - 1s 2ms/step - loss: 0.5892 - accuracy: 0.7094\n",
            "Epoch 51/60\n",
            "804/804 [==============================] - 2s 2ms/step - loss: 0.5899 - accuracy: 0.7103\n",
            "Epoch 52/60\n",
            "804/804 [==============================] - 2s 2ms/step - loss: 0.5894 - accuracy: 0.7107\n",
            "Epoch 53/60\n",
            "804/804 [==============================] - 2s 2ms/step - loss: 0.5893 - accuracy: 0.7114\n",
            "Epoch 54/60\n",
            "804/804 [==============================] - 2s 2ms/step - loss: 0.5891 - accuracy: 0.7098\n",
            "Epoch 55/60\n",
            "804/804 [==============================] - 3s 3ms/step - loss: 0.5889 - accuracy: 0.7107\n",
            "Epoch 56/60\n",
            "804/804 [==============================] - 2s 2ms/step - loss: 0.5888 - accuracy: 0.7109\n",
            "Epoch 57/60\n",
            "804/804 [==============================] - 2s 2ms/step - loss: 0.5886 - accuracy: 0.7108\n",
            "Epoch 58/60\n",
            "804/804 [==============================] - 2s 2ms/step - loss: 0.5889 - accuracy: 0.7091\n",
            "Epoch 59/60\n",
            "804/804 [==============================] - 2s 2ms/step - loss: 0.5886 - accuracy: 0.7106\n",
            "Epoch 60/60\n",
            "804/804 [==============================] - 2s 2ms/step - loss: 0.5892 - accuracy: 0.7096\n"
          ]
        },
        {
          "output_type": "execute_result",
          "data": {
            "text/plain": [
              "<keras.src.callbacks.History at 0x7bcdb7f33760>"
            ]
          },
          "metadata": {},
          "execution_count": 15
        }
      ],
      "source": [
        "# Train the model\n",
        "nn_model1.fit(X_train_scaled, y_train, epochs = 60)"
      ]
    },
    {
      "cell_type": "code",
      "execution_count": null,
      "metadata": {
        "id": "9WrolWO-oFtu",
        "colab": {
          "base_uri": "https://localhost:8080/"
        },
        "outputId": "e0ac59e9-8571-453f-afaa-8ef27a704da6"
      },
      "outputs": [
        {
          "output_type": "stream",
          "name": "stdout",
          "text": [
            "268/268 - 1s - loss: 0.5854 - accuracy: 0.7171 - 522ms/epoch - 2ms/step\n",
            "Loss: 0.5853722095489502, Accuracy: 0.717084527015686\n"
          ]
        }
      ],
      "source": [
        "# Evaluate the model using the test data\n",
        "model_loss, model_accuracy = nn_model1.evaluate(X_test_scaled,y_test,verbose=2)\n",
        "print(f\"Loss: {model_loss}, Accuracy: {model_accuracy}\")"
      ]
    },
    {
      "cell_type": "markdown",
      "source": [
        "#Attempt 2\n"
      ],
      "metadata": {
        "id": "eH7SQvPQJj2Y"
      }
    },
    {
      "cell_type": "code",
      "execution_count": null,
      "metadata": {
        "id": "hNsMMobKEAdo",
        "colab": {
          "base_uri": "https://localhost:8080/"
        },
        "outputId": "12207276-dd5b-4149-9b64-f6d8a3456f82"
      },
      "outputs": [
        {
          "output_type": "stream",
          "name": "stdout",
          "text": [
            "Model: \"sequential_1\"\n",
            "_________________________________________________________________\n",
            " Layer (type)                Output Shape              Param #   \n",
            "=================================================================\n",
            " dense_3 (Dense)             (None, 30)                120       \n",
            "                                                                 \n",
            " dense_4 (Dense)             (None, 20)                620       \n",
            "                                                                 \n",
            " dense_5 (Dense)             (None, 10)                210       \n",
            "                                                                 \n",
            " dense_6 (Dense)             (None, 1)                 11        \n",
            "                                                                 \n",
            "=================================================================\n",
            "Total params: 961 (3.75 KB)\n",
            "Trainable params: 961 (3.75 KB)\n",
            "Non-trainable params: 0 (0.00 Byte)\n",
            "_________________________________________________________________\n"
          ]
        }
      ],
      "source": [
        "# Define the model - deep neural net, i.e., the number of input features and hidden nodes for each layer.\n",
        "units_first_layer = 30\n",
        "units_second_layer = 20\n",
        "units_third_layer = 10\n",
        "input_dimensions = len(X_train_scaled[0])\n",
        "nn_model2 = tf.keras.models.Sequential()\n",
        "\n",
        "# Input layer\n",
        "nn_model2.add(tf.keras.layers.Dense(units = units_first_layer, activation = 'relu', input_dim = input_dimensions))\n",
        "\n",
        "# First hidden layer\n",
        "nn_model2.add(tf.keras.layers.Dense(units = units_second_layer, activation = 'relu'))\n",
        "\n",
        "# Second hidden layer\n",
        "nn_model2.add(tf.keras.layers.Dense(units = units_third_layer, activation = 'relu'))\n",
        "\n",
        "# Output layer\n",
        "nn_model2.add(tf.keras.layers.Dense(units = 1, activation = 'sigmoid'))\n",
        "\n",
        "# Check the structure of the model\n",
        "nn_model2.summary()"
      ]
    },
    {
      "cell_type": "code",
      "execution_count": null,
      "metadata": {
        "id": "Pm6bJHKREAd0"
      },
      "outputs": [],
      "source": [
        "# Compile the model\n",
        "nn_model2.compile(loss = 'binary_crossentropy', optimizer = 'adam', metrics = ['accuracy'])"
      ]
    },
    {
      "cell_type": "code",
      "execution_count": null,
      "metadata": {
        "outputId": "bc1b18fd-14ac-4357-bdd9-bcb1cd233ee3",
        "colab": {
          "base_uri": "https://localhost:8080/"
        },
        "id": "bg_4oUqSEAd0"
      },
      "outputs": [
        {
          "output_type": "stream",
          "name": "stdout",
          "text": [
            "Epoch 1/60\n",
            "804/804 - 3s - loss: 0.6273 - accuracy: 0.6767 - 3s/epoch - 4ms/step\n",
            "Epoch 2/60\n",
            "804/804 - 1s - loss: 0.6151 - accuracy: 0.6884 - 1s/epoch - 2ms/step\n",
            "Epoch 3/60\n",
            "804/804 - 1s - loss: 0.6111 - accuracy: 0.6929 - 1s/epoch - 2ms/step\n",
            "Epoch 4/60\n",
            "804/804 - 1s - loss: 0.6065 - accuracy: 0.6973 - 1s/epoch - 2ms/step\n",
            "Epoch 5/60\n",
            "804/804 - 1s - loss: 0.6039 - accuracy: 0.6996 - 1s/epoch - 2ms/step\n",
            "Epoch 6/60\n",
            "804/804 - 1s - loss: 0.6022 - accuracy: 0.7013 - 1s/epoch - 2ms/step\n",
            "Epoch 7/60\n",
            "804/804 - 1s - loss: 0.6007 - accuracy: 0.7044 - 1s/epoch - 2ms/step\n",
            "Epoch 8/60\n",
            "804/804 - 1s - loss: 0.5995 - accuracy: 0.7047 - 1s/epoch - 2ms/step\n",
            "Epoch 9/60\n",
            "804/804 - 1s - loss: 0.5987 - accuracy: 0.7059 - 1s/epoch - 2ms/step\n",
            "Epoch 10/60\n",
            "804/804 - 2s - loss: 0.5977 - accuracy: 0.7065 - 2s/epoch - 3ms/step\n",
            "Epoch 11/60\n",
            "804/804 - 1s - loss: 0.5969 - accuracy: 0.7069 - 1s/epoch - 2ms/step\n",
            "Epoch 12/60\n",
            "804/804 - 1s - loss: 0.5961 - accuracy: 0.7071 - 1s/epoch - 2ms/step\n",
            "Epoch 13/60\n",
            "804/804 - 1s - loss: 0.5952 - accuracy: 0.7079 - 1s/epoch - 2ms/step\n",
            "Epoch 14/60\n",
            "804/804 - 1s - loss: 0.5948 - accuracy: 0.7081 - 1s/epoch - 2ms/step\n",
            "Epoch 15/60\n",
            "804/804 - 1s - loss: 0.5941 - accuracy: 0.7080 - 1s/epoch - 2ms/step\n",
            "Epoch 16/60\n",
            "804/804 - 1s - loss: 0.5939 - accuracy: 0.7085 - 1s/epoch - 2ms/step\n",
            "Epoch 17/60\n",
            "804/804 - 1s - loss: 0.5936 - accuracy: 0.7095 - 1s/epoch - 2ms/step\n",
            "Epoch 18/60\n",
            "804/804 - 1s - loss: 0.5934 - accuracy: 0.7088 - 1s/epoch - 2ms/step\n",
            "Epoch 19/60\n",
            "804/804 - 2s - loss: 0.5925 - accuracy: 0.7090 - 2s/epoch - 2ms/step\n",
            "Epoch 20/60\n",
            "804/804 - 1s - loss: 0.5919 - accuracy: 0.7087 - 1s/epoch - 2ms/step\n",
            "Epoch 21/60\n",
            "804/804 - 1s - loss: 0.5925 - accuracy: 0.7089 - 1s/epoch - 2ms/step\n",
            "Epoch 22/60\n",
            "804/804 - 1s - loss: 0.5921 - accuracy: 0.7092 - 1s/epoch - 2ms/step\n",
            "Epoch 23/60\n",
            "804/804 - 1s - loss: 0.5915 - accuracy: 0.7093 - 1s/epoch - 2ms/step\n",
            "Epoch 24/60\n",
            "804/804 - 1s - loss: 0.5917 - accuracy: 0.7096 - 1s/epoch - 2ms/step\n",
            "Epoch 25/60\n",
            "804/804 - 1s - loss: 0.5914 - accuracy: 0.7097 - 1s/epoch - 2ms/step\n",
            "Epoch 26/60\n",
            "804/804 - 1s - loss: 0.5914 - accuracy: 0.7093 - 1s/epoch - 2ms/step\n",
            "Epoch 27/60\n",
            "804/804 - 1s - loss: 0.5907 - accuracy: 0.7100 - 1s/epoch - 2ms/step\n",
            "Epoch 28/60\n",
            "804/804 - 2s - loss: 0.5906 - accuracy: 0.7096 - 2s/epoch - 3ms/step\n",
            "Epoch 29/60\n",
            "804/804 - 1s - loss: 0.5903 - accuracy: 0.7100 - 1s/epoch - 2ms/step\n",
            "Epoch 30/60\n",
            "804/804 - 1s - loss: 0.5896 - accuracy: 0.7107 - 1s/epoch - 2ms/step\n",
            "Epoch 31/60\n",
            "804/804 - 1s - loss: 0.5903 - accuracy: 0.7109 - 1s/epoch - 2ms/step\n",
            "Epoch 32/60\n",
            "804/804 - 1s - loss: 0.5898 - accuracy: 0.7109 - 1s/epoch - 2ms/step\n",
            "Epoch 33/60\n",
            "804/804 - 1s - loss: 0.5892 - accuracy: 0.7105 - 1s/epoch - 2ms/step\n",
            "Epoch 34/60\n",
            "804/804 - 1s - loss: 0.5890 - accuracy: 0.7104 - 1s/epoch - 2ms/step\n",
            "Epoch 35/60\n",
            "804/804 - 1s - loss: 0.5895 - accuracy: 0.7107 - 1s/epoch - 2ms/step\n",
            "Epoch 36/60\n",
            "804/804 - 1s - loss: 0.5887 - accuracy: 0.7111 - 1s/epoch - 2ms/step\n",
            "Epoch 37/60\n",
            "804/804 - 2s - loss: 0.5881 - accuracy: 0.7107 - 2s/epoch - 2ms/step\n",
            "Epoch 38/60\n",
            "804/804 - 1s - loss: 0.5883 - accuracy: 0.7114 - 1s/epoch - 2ms/step\n",
            "Epoch 39/60\n",
            "804/804 - 1s - loss: 0.5880 - accuracy: 0.7103 - 1s/epoch - 2ms/step\n",
            "Epoch 40/60\n",
            "804/804 - 1s - loss: 0.5881 - accuracy: 0.7105 - 1s/epoch - 1ms/step\n",
            "Epoch 41/60\n",
            "804/804 - 1s - loss: 0.5881 - accuracy: 0.7111 - 1s/epoch - 2ms/step\n",
            "Epoch 42/60\n",
            "804/804 - 1s - loss: 0.5878 - accuracy: 0.7114 - 1s/epoch - 2ms/step\n",
            "Epoch 43/60\n",
            "804/804 - 1s - loss: 0.5877 - accuracy: 0.7120 - 1s/epoch - 2ms/step\n",
            "Epoch 44/60\n",
            "804/804 - 1s - loss: 0.5878 - accuracy: 0.7119 - 1s/epoch - 2ms/step\n",
            "Epoch 45/60\n",
            "804/804 - 1s - loss: 0.5877 - accuracy: 0.7116 - 1s/epoch - 2ms/step\n",
            "Epoch 46/60\n",
            "804/804 - 2s - loss: 0.5872 - accuracy: 0.7115 - 2s/epoch - 3ms/step\n",
            "Epoch 47/60\n",
            "804/804 - 1s - loss: 0.5872 - accuracy: 0.7126 - 1s/epoch - 2ms/step\n",
            "Epoch 48/60\n",
            "804/804 - 1s - loss: 0.5876 - accuracy: 0.7116 - 1s/epoch - 1ms/step\n",
            "Epoch 49/60\n",
            "804/804 - 1s - loss: 0.5871 - accuracy: 0.7118 - 1s/epoch - 1ms/step\n",
            "Epoch 50/60\n",
            "804/804 - 1s - loss: 0.5869 - accuracy: 0.7137 - 1s/epoch - 2ms/step\n",
            "Epoch 51/60\n",
            "804/804 - 1s - loss: 0.5871 - accuracy: 0.7128 - 1s/epoch - 2ms/step\n",
            "Epoch 52/60\n",
            "804/804 - 1s - loss: 0.5870 - accuracy: 0.7119 - 1s/epoch - 2ms/step\n",
            "Epoch 53/60\n",
            "804/804 - 1s - loss: 0.5868 - accuracy: 0.7133 - 1s/epoch - 2ms/step\n",
            "Epoch 54/60\n",
            "804/804 - 1s - loss: 0.5870 - accuracy: 0.7122 - 1s/epoch - 2ms/step\n",
            "Epoch 55/60\n",
            "804/804 - 2s - loss: 0.5865 - accuracy: 0.7116 - 2s/epoch - 3ms/step\n",
            "Epoch 56/60\n",
            "804/804 - 1s - loss: 0.5870 - accuracy: 0.7125 - 1s/epoch - 2ms/step\n",
            "Epoch 57/60\n",
            "804/804 - 1s - loss: 0.5871 - accuracy: 0.7133 - 1s/epoch - 2ms/step\n",
            "Epoch 58/60\n",
            "804/804 - 1s - loss: 0.5867 - accuracy: 0.7136 - 1s/epoch - 2ms/step\n",
            "Epoch 59/60\n",
            "804/804 - 1s - loss: 0.5872 - accuracy: 0.7128 - 1s/epoch - 2ms/step\n",
            "Epoch 60/60\n",
            "804/804 - 1s - loss: 0.5864 - accuracy: 0.7135 - 1s/epoch - 2ms/step\n"
          ]
        },
        {
          "output_type": "execute_result",
          "data": {
            "text/plain": [
              "<keras.src.callbacks.History at 0x7bcdb7d036a0>"
            ]
          },
          "metadata": {},
          "execution_count": 20
        }
      ],
      "source": [
        "# Train the model\n",
        "nn_model2.fit(X_train_scaled, y_train, epochs = 60, verbose = 2)"
      ]
    },
    {
      "cell_type": "code",
      "execution_count": null,
      "metadata": {
        "colab": {
          "base_uri": "https://localhost:8080/"
        },
        "id": "CGPwLn03EAd0",
        "outputId": "4c075e0a-d22b-410a-89e1-c8555123de89"
      },
      "outputs": [
        {
          "output_type": "stream",
          "name": "stdout",
          "text": [
            "268/268 - 0s - loss: 0.5813 - accuracy: 0.7180 - 464ms/epoch - 2ms/step\n",
            "Loss: 0.5813468098640442, Accuracy: 0.7180175185203552\n"
          ]
        }
      ],
      "source": [
        "# Evaluate the model using the test data\n",
        "model_loss, model_accuracy = nn_model2.evaluate(X_test_scaled,y_test,verbose=2)\n",
        "print(f\"Loss: {model_loss}, Accuracy: {model_accuracy}\")"
      ]
    },
    {
      "cell_type": "markdown",
      "source": [
        "#Attempt 3"
      ],
      "metadata": {
        "id": "87dnoG-RpEsR"
      }
    },
    {
      "cell_type": "code",
      "source": [
        "# Split the preprocessed data into a training and testing dataset\n",
        "X_train, X_test, y_train, y_test = train_test_split(X, y)"
      ],
      "metadata": {
        "id": "-B3vXFnC0Tl7"
      },
      "execution_count": null,
      "outputs": []
    },
    {
      "cell_type": "code",
      "execution_count": null,
      "metadata": {
        "colab": {
          "base_uri": "https://localhost:8080/"
        },
        "outputId": "e12c99c7-1548-4380-ae2f-81feae64956f",
        "id": "rzzLdudY1BY9"
      },
      "outputs": [
        {
          "output_type": "execute_result",
          "data": {
            "text/plain": [
              "(8575, 39)"
            ]
          },
          "metadata": {},
          "execution_count": 16
        }
      ],
      "source": [
        "# Create a StandardScaler instances\n",
        "scaler = StandardScaler()\n",
        "\n",
        "# Fit the StandardScaler\n",
        "X_scaler = scaler.fit(X_train)\n",
        "\n",
        "# Scale the data\n",
        "X_train_scaled = X_scaler.transform(X_train)\n",
        "X_test_scaled = X_scaler.transform(X_test)\n",
        "X_test_scaled.shape"
      ]
    },
    {
      "cell_type": "code",
      "source": [
        "def create_model(hp):\n",
        "    nn_model = tf.keras.models.Sequential()\n",
        "\n",
        "    # Allow kerastuner to decide which activation function to use in hidden layers\n",
        "    activation = hp.Choice('activation',['relu','tanh','sigmoid'])\n",
        "\n",
        "    # Use the input shape from the data\n",
        "    nn_model.add(tf.keras.layers.Dense(units=hp.Int('first_units',\n",
        "        min_value=1,\n",
        "        max_value=10,\n",
        "        step=2), activation=activation, input_dim=X_train_scaled.shape[1]))\n",
        "\n",
        "    # Allow kerastuner to decide number of hidden layers and neurons in hidden layers\n",
        "    for i in range(hp.Int('num_layers', 1, 6)):\n",
        "        nn_model.add(tf.keras.layers.Dense(units=hp.Int('units_' + str(i),\n",
        "            min_value=1,\n",
        "            max_value=10,\n",
        "            step=2),\n",
        "            activation=activation))\n",
        "\n",
        "    nn_model.add(tf.keras.layers.Dense(units=1, activation=\"sigmoid\"))\n",
        "\n",
        "    # Compile the model\n",
        "    nn_model.compile(loss=\"binary_crossentropy\", optimizer='adam', metrics=[\"accuracy\"])\n",
        "\n",
        "    return nn_model"
      ],
      "metadata": {
        "id": "m4bT7SPJyTCD"
      },
      "execution_count": null,
      "outputs": []
    },
    {
      "cell_type": "code",
      "source": [
        "# Import the kerastuner library\n",
        "import keras_tuner as kt\n",
        "\n",
        "# Initialize kerastuner\n",
        "tuner = kt.Hyperband(\n",
        "    create_model,\n",
        "    objective=\"val_accuracy\",\n",
        "    max_epochs=20,\n",
        "    hyperband_iterations=2)"
      ],
      "metadata": {
        "id": "HFEUKDK4zQnE"
      },
      "execution_count": null,
      "outputs": []
    },
    {
      "cell_type": "code",
      "source": [
        "# Run the kerastuner search for best hyperparameters\n",
        "tuner.search(x=X_train_scaled, y=y_train, epochs=20, validation_data=(X_test_scaled,y_test), batch_size=32)"
      ],
      "metadata": {
        "id": "JQtl5OjLpcCK",
        "colab": {
          "base_uri": "https://localhost:8080/"
        },
        "outputId": "90e51c74-52a9-4e86-e3c4-e6faa0d5a90b"
      },
      "execution_count": null,
      "outputs": [
        {
          "output_type": "stream",
          "name": "stdout",
          "text": [
            "Trial 60 Complete [00h 01m 06s]\n",
            "val_accuracy: 0.7335277199745178\n",
            "\n",
            "Best val_accuracy So Far: 0.7364431619644165\n",
            "Total elapsed time: 00h 33m 38s\n"
          ]
        }
      ]
    },
    {
      "cell_type": "code",
      "source": [
        "# Get best model hyperparameters\n",
        "best_hyper = tuner.get_best_hyperparameters(1)[0]\n",
        "best_hyper.values"
      ],
      "metadata": {
        "colab": {
          "base_uri": "https://localhost:8080/"
        },
        "id": "xsauimJDCkrR",
        "outputId": "4da5951a-2ed5-47c0-b559-0746ea64bac5"
      },
      "execution_count": null,
      "outputs": [
        {
          "output_type": "execute_result",
          "data": {
            "text/plain": [
              "{'activation': 'tanh',\n",
              " 'first_units': 9,\n",
              " 'num_layers': 3,\n",
              " 'units_0': 9,\n",
              " 'units_1': 1,\n",
              " 'units_2': 5,\n",
              " 'units_3': 3,\n",
              " 'tuner/epochs': 20,\n",
              " 'tuner/initial_epoch': 7,\n",
              " 'tuner/bracket': 1,\n",
              " 'tuner/round': 1,\n",
              " 'tuner/trial_id': '0018',\n",
              " 'units_4': 3,\n",
              " 'units_5': 3}"
            ]
          },
          "metadata": {},
          "execution_count": 24
        }
      ]
    },
    {
      "cell_type": "code",
      "source": [
        "# Evaluate best model against full test data\n",
        "nn_model3 = tuner.get_best_models(1)[0]\n",
        "model_loss, model_accuracy = nn_model3.evaluate(X_test_scaled,y_test,verbose=2)\n",
        "print(f\"Loss: {model_loss}, Accuracy: {model_accuracy}\")"
      ],
      "metadata": {
        "id": "Wm_J7EAKqos2",
        "colab": {
          "base_uri": "https://localhost:8080/"
        },
        "outputId": "f0a4fab0-048e-467a-e56a-be0939d4b689"
      },
      "execution_count": null,
      "outputs": [
        {
          "output_type": "stream",
          "name": "stderr",
          "text": [
            "WARNING:tensorflow:Detecting that an object or model or tf.train.Checkpoint is being deleted with unrestored values. See the following logs for the specific values in question. To silence these warnings, use `status.expect_partial()`. See https://www.tensorflow.org/api_docs/python/tf/train/Checkpoint#restorefor details about the status object returned by the restore function.\n",
            "WARNING:tensorflow:Value in checkpoint could not be found in the restored object: (root).optimizer._variables.1\n",
            "WARNING:tensorflow:Value in checkpoint could not be found in the restored object: (root).optimizer._variables.2\n",
            "WARNING:tensorflow:Value in checkpoint could not be found in the restored object: (root).optimizer._variables.3\n",
            "WARNING:tensorflow:Value in checkpoint could not be found in the restored object: (root).optimizer._variables.4\n",
            "WARNING:tensorflow:Value in checkpoint could not be found in the restored object: (root).optimizer._variables.5\n",
            "WARNING:tensorflow:Value in checkpoint could not be found in the restored object: (root).optimizer._variables.6\n",
            "WARNING:tensorflow:Value in checkpoint could not be found in the restored object: (root).optimizer._variables.7\n",
            "WARNING:tensorflow:Value in checkpoint could not be found in the restored object: (root).optimizer._variables.8\n",
            "WARNING:tensorflow:Value in checkpoint could not be found in the restored object: (root).optimizer._variables.9\n",
            "WARNING:tensorflow:Value in checkpoint could not be found in the restored object: (root).optimizer._variables.10\n",
            "WARNING:tensorflow:Value in checkpoint could not be found in the restored object: (root).optimizer._variables.11\n",
            "WARNING:tensorflow:Value in checkpoint could not be found in the restored object: (root).optimizer._variables.12\n",
            "WARNING:tensorflow:Value in checkpoint could not be found in the restored object: (root).optimizer._variables.13\n",
            "WARNING:tensorflow:Value in checkpoint could not be found in the restored object: (root).optimizer._variables.14\n",
            "WARNING:tensorflow:Value in checkpoint could not be found in the restored object: (root).optimizer._variables.15\n",
            "WARNING:tensorflow:Value in checkpoint could not be found in the restored object: (root).optimizer._variables.16\n",
            "WARNING:tensorflow:Value in checkpoint could not be found in the restored object: (root).optimizer._variables.17\n",
            "WARNING:tensorflow:Value in checkpoint could not be found in the restored object: (root).optimizer._variables.18\n",
            "WARNING:tensorflow:Value in checkpoint could not be found in the restored object: (root).optimizer._variables.19\n",
            "WARNING:tensorflow:Value in checkpoint could not be found in the restored object: (root).optimizer._variables.20\n",
            "WARNING:tensorflow:Detecting that an object or model or tf.train.Checkpoint is being deleted with unrestored values. See the following logs for the specific values in question. To silence these warnings, use `status.expect_partial()`. See https://www.tensorflow.org/api_docs/python/tf/train/Checkpoint#restorefor details about the status object returned by the restore function.\n",
            "WARNING:tensorflow:Value in checkpoint could not be found in the restored object: (root).optimizer._variables.1\n",
            "WARNING:tensorflow:Value in checkpoint could not be found in the restored object: (root).optimizer._variables.2\n",
            "WARNING:tensorflow:Value in checkpoint could not be found in the restored object: (root).optimizer._variables.3\n",
            "WARNING:tensorflow:Value in checkpoint could not be found in the restored object: (root).optimizer._variables.4\n",
            "WARNING:tensorflow:Value in checkpoint could not be found in the restored object: (root).optimizer._variables.5\n",
            "WARNING:tensorflow:Value in checkpoint could not be found in the restored object: (root).optimizer._variables.6\n",
            "WARNING:tensorflow:Value in checkpoint could not be found in the restored object: (root).optimizer._variables.7\n",
            "WARNING:tensorflow:Value in checkpoint could not be found in the restored object: (root).optimizer._variables.8\n",
            "WARNING:tensorflow:Value in checkpoint could not be found in the restored object: (root).optimizer._variables.9\n",
            "WARNING:tensorflow:Value in checkpoint could not be found in the restored object: (root).optimizer._variables.10\n",
            "WARNING:tensorflow:Value in checkpoint could not be found in the restored object: (root).optimizer._variables.11\n",
            "WARNING:tensorflow:Value in checkpoint could not be found in the restored object: (root).optimizer._variables.12\n",
            "WARNING:tensorflow:Value in checkpoint could not be found in the restored object: (root).optimizer._variables.13\n",
            "WARNING:tensorflow:Value in checkpoint could not be found in the restored object: (root).optimizer._variables.14\n",
            "WARNING:tensorflow:Value in checkpoint could not be found in the restored object: (root).optimizer._variables.15\n",
            "WARNING:tensorflow:Value in checkpoint could not be found in the restored object: (root).optimizer._variables.16\n",
            "WARNING:tensorflow:Value in checkpoint could not be found in the restored object: (root).optimizer._variables.17\n",
            "WARNING:tensorflow:Value in checkpoint could not be found in the restored object: (root).optimizer._variables.18\n",
            "WARNING:tensorflow:Value in checkpoint could not be found in the restored object: (root).optimizer._variables.19\n",
            "WARNING:tensorflow:Value in checkpoint could not be found in the restored object: (root).optimizer._variables.20\n"
          ]
        },
        {
          "output_type": "stream",
          "name": "stdout",
          "text": [
            "268/268 - 3s - loss: 0.5515 - accuracy: 0.7364 - 3s/epoch - 11ms/step\n",
            "Loss: 0.5514621138572693, Accuracy: 0.7364431619644165\n"
          ]
        }
      ]
    },
    {
      "cell_type": "code",
      "source": [],
      "metadata": {
        "id": "RhVzLIMqCxHl"
      },
      "execution_count": null,
      "outputs": []
    }
  ]
}